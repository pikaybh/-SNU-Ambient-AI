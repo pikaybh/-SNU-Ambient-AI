{
  "cells": [
    {
      "cell_type": "markdown",
      "metadata": {
        "id": "view-in-github",
        "colab_type": "text"
      },
      "source": [
        "<a href=\"https://colab.research.google.com/github/pikaybh/SNU-Ambient-AI/blob/main/HW1_2023_22785_ByungHeeYoo.ipynb\" target=\"_parent\"><img src=\"https://colab.research.google.com/assets/colab-badge.svg\" alt=\"Open In Colab\"/></a>"
      ]
    },
    {
      "cell_type": "markdown",
      "metadata": {
        "id": "fYG-JyHNhgYJ"
      },
      "source": [
        "# HW1(~1/11)\n",
        "HW1_학번_이름.ipynb 형태로 저장하여 Jupyter Notebook을 그대로 제출! <br>\n",
        "(예: HW1_2020_12345_keondo.ipynb) <br>\n",
        "훈련을 진행하고 Output을 지우지 말고 제출할 것!"
      ]
    },
    {
      "cell_type": "code",
      "source": [
        "from google.colab import drive\n",
        "drive.mount('/content/drive')"
      ],
      "metadata": {
        "colab": {
          "base_uri": "https://localhost:8080/"
        },
        "id": "3h_vgsRegmG7",
        "outputId": "3173ef9e-3a06-4fc6-801d-6fad414f2230"
      },
      "execution_count": null,
      "outputs": [
        {
          "output_type": "stream",
          "name": "stdout",
          "text": [
            "Mounted at /content/drive\n"
          ]
        }
      ]
    },
    {
      "cell_type": "code",
      "execution_count": null,
      "metadata": {
        "id": "krYqeaqAfBZU"
      },
      "outputs": [],
      "source": [
        "import tensorflow as tf\n",
        "from sklearn import model_selection\n",
        "import matplotlib.pyplot as plt"
      ]
    },
    {
      "cell_type": "markdown",
      "metadata": {
        "id": "1R-g2fHuhgYJ"
      },
      "source": [
        "## Problem 1: CIFAR10 데이터셋을 이용하여 MLP 모델 만들고 훈련시키기\n",
        "다른 데이터셋을 이용하여 스스로 MLP를 구성하고 훈련해 보자. <br>\n",
        "10개의 서로 다른 class를 가진 CIFAR10 데이터셋을 이용하여 비슷하게 MLP 모델을 만들고 훈련하여 제출하시오. <br>\n",
        "모델은 최소한 3개 이상의 Dense layer를 사용하여 구성하여야 하고 0.4 이상의 Validation accuracy를 달성할 때까지 훈련을 진행하시오. 또한 Regularizer를 한번 이상 활용하시오.(Dropout 제외) <br>\n",
        "*주의*: Fashion MNIST와 CIFAR10은 Input의 shape가 다르므로 이를 잘 고려해야 한다."
      ]
    },
    {
      "cell_type": "code",
      "execution_count": null,
      "metadata": {
        "id": "P7Kthqz-hgYJ"
      },
      "outputs": [],
      "source": [
        "cifar10 = tf.keras.datasets.cifar10\n",
        "\n",
        "#Load data\n",
        "(x_train, y_train), (x_test, y_test) = cifar10.load_data()\n",
        "\n",
        "#Split train set into train/valid set\n",
        "x_train, x_valid, y_train, y_valid = model_selection.train_test_split(x_train, y_train,test_size=0.2)\n",
        "\n",
        "#Rescale data to be in the range of [0,1]\n",
        "x_train, x_valid, x_test = x_train / 255.0, x_valid / 255.0, x_test / 255.0\n",
        "class_names = ['airplane', 'automobile', 'bird', 'cat', 'deer',\n",
        "               'dog', 'frog', 'horse', 'ship', 'truck']"
      ]
    },
    {
      "cell_type": "code",
      "execution_count": null,
      "metadata": {
        "id": "Um32gK5thgYJ",
        "outputId": "dfd3c5a3-bdf6-4f22-f1d6-df37df8bce88",
        "colab": {
          "base_uri": "https://localhost:8080/",
          "height": 266
        }
      },
      "outputs": [
        {
          "output_type": "display_data",
          "data": {
            "text/plain": [
              "<Figure size 432x288 with 2 Axes>"
            ],
            "image/png": "[encoded data removed]"
          },
          "metadata": {
            "needs_background": "light"
          }
        }
      ],
      "source": [
        "#Let's look at the sample data\n",
        "plt.figure()\n",
        "plt.imshow(x_train[0])\n",
        "plt.colorbar()\n",
        "plt.grid(False)\n",
        "plt.show()"
      ]
    },
    {
      "cell_type": "markdown",
      "metadata": {
        "id": "cvCh910-hgYK"
      },
      "source": [
        "---\n",
        "여기부터 수강생의 코드를 추가하시오"
      ]
    },
    {
      "cell_type": "markdown",
      "source": [
        "## My code from here\n",
        "\n",
        "---\n",
        "\n",
        "### Build Model"
      ],
      "metadata": {
        "id": "utoQ2t1niMRo"
      }
    },
    {
      "cell_type": "code",
      "execution_count": null,
      "metadata": {
        "id": "UwEXyZdDfBZX",
        "colab": {
          "base_uri": "https://localhost:8080/"
        },
        "outputId": "df60bf78-c7e2-4203-ef13-90325a2ae82c"
      },
      "outputs": [
        {
          "output_type": "stream",
          "name": "stdout",
          "text": [
            "Model: \"sequential_2\"\n",
            "_________________________________________________________________\n",
            " Layer (type)                Output Shape              Param #   \n",
            "=================================================================\n",
            " flatten_2 (Flatten)         (None, 3072)              0         \n",
            "                                                                 \n",
            " dense_8 (Dense)             (None, 128)               393344    \n",
            "                                                                 \n",
            " dense_9 (Dense)             (None, 64)                8256      \n",
            "                                                                 \n",
            " dense_10 (Dense)            (None, 32)                2080      \n",
            "                                                                 \n",
            " dropout_2 (Dropout)         (None, 32)                0         \n",
            "                                                                 \n",
            " dense_11 (Dense)            (None, 10)                330       \n",
            "                                                                 \n",
            "=================================================================\n",
            "Total params: 404,010\n",
            "Trainable params: 404,010\n",
            "Non-trainable params: 0\n",
            "_________________________________________________________________\n"
          ]
        },
        {
          "output_type": "stream",
          "name": "stderr",
          "text": [
            "/usr/local/lib/python3.8/dist-packages/keras/optimizers/optimizer_v2/adam.py:110: UserWarning: The `lr` argument is deprecated, use `learning_rate` instead.\n",
            "  super(Adam, self).__init__(name, **kwargs)\n"
          ]
        }
      ],
      "source": [
        "model = tf.keras.Sequential([\n",
        "    tf.keras.layers.Flatten(input_shape = (32, 32, 3)),\n",
        "\n",
        "    tf.keras.layers.Dense(128, activation = \"relu\"),\n",
        "    tf.keras.layers.Dense(64, activation = \"relu\"),\n",
        "    tf.keras.layers.Dense(32, activation = \"relu\"),\n",
        "    tf.keras.layers.Dropout(0.2),\n",
        "\n",
        "    tf.keras.layers.Dense(10, activation = \"softmax\")\n",
        "])\n",
        "\n",
        "loss_fn = tf.keras.losses.SparseCategoricalCrossentropy()\n",
        "optim_fn = tf.keras.optimizers.Adam(lr = 0.001)\n",
        "\n",
        "model.compile(optimizer = optim_fn,\n",
        "              loss = loss_fn,\n",
        "              metrics = [\"accuracy\"])\n",
        "\n",
        "model.summary()"
      ]
    },
    {
      "cell_type": "markdown",
      "source": [
        "### Model Training"
      ],
      "metadata": {
        "id": "15ix1uC9uczL"
      }
    },
    {
      "cell_type": "code",
      "source": [
        "hist = model.fit(x_train, y_train, \n",
        "                 epochs = 100, \n",
        "                 validation_data = (x_valid, y_valid))"
      ],
      "metadata": {
        "colab": {
          "base_uri": "https://localhost:8080/"
        },
        "id": "Ow9Dqtm2iAKB",
        "outputId": "3e8a6021-9fce-4100-d988-4b20d355aaf7"
      },
      "execution_count": null,
      "outputs": [
        {
          "output_type": "stream",
          "name": "stdout",
          "text": [
            "Epoch 1/100\n",
            "1250/1250 [==============================] - 9s 7ms/step - loss: 1.5651 - accuracy: 0.4403 - val_loss: 1.5393 - val_accuracy: 0.4510\n",
            "Epoch 2/100\n",
            "1250/1250 [==============================] - 8s 7ms/step - loss: 1.5505 - accuracy: 0.4451 - val_loss: 1.5966 - val_accuracy: 0.4204\n",
            "Epoch 3/100\n",
            "1250/1250 [==============================] - 8s 6ms/step - loss: 1.5429 - accuracy: 0.4450 - val_loss: 1.5462 - val_accuracy: 0.4427\n",
            "Epoch 4/100\n",
            "1250/1250 [==============================] - 7s 6ms/step - loss: 1.5326 - accuracy: 0.4514 - val_loss: 1.5288 - val_accuracy: 0.4552\n",
            "Epoch 5/100\n",
            "1250/1250 [==============================] - 8s 6ms/step - loss: 1.5203 - accuracy: 0.4541 - val_loss: 1.5238 - val_accuracy: 0.4589\n",
            "Epoch 6/100\n",
            "1250/1250 [==============================] - 9s 7ms/step - loss: 1.5133 - accuracy: 0.4573 - val_loss: 1.5412 - val_accuracy: 0.4504\n",
            "Epoch 7/100\n",
            "1250/1250 [==============================] - 12s 9ms/step - loss: 1.5016 - accuracy: 0.4586 - val_loss: 1.5345 - val_accuracy: 0.4472\n",
            "Epoch 8/100\n",
            "1250/1250 [==============================] - 9s 7ms/step - loss: 1.4887 - accuracy: 0.4660 - val_loss: 1.5485 - val_accuracy: 0.4551\n",
            "Epoch 9/100\n",
            "1250/1250 [==============================] - 8s 6ms/step - loss: 1.4822 - accuracy: 0.4648 - val_loss: 1.5645 - val_accuracy: 0.4484\n",
            "Epoch 10/100\n",
            "1250/1250 [==============================] - 8s 6ms/step - loss: 1.4759 - accuracy: 0.4675 - val_loss: 1.5256 - val_accuracy: 0.4542\n",
            "Epoch 11/100\n",
            "1250/1250 [==============================] - 10s 8ms/step - loss: 1.4725 - accuracy: 0.4692 - val_loss: 1.5068 - val_accuracy: 0.4622\n",
            "Epoch 12/100\n",
            "1250/1250 [==============================] - 8s 6ms/step - loss: 1.4615 - accuracy: 0.4729 - val_loss: 1.4963 - val_accuracy: 0.4730\n",
            "Epoch 13/100\n",
            "1250/1250 [==============================] - 8s 6ms/step - loss: 1.4536 - accuracy: 0.4745 - val_loss: 1.5298 - val_accuracy: 0.4548\n",
            "Epoch 14/100\n",
            "1250/1250 [==============================] - 8s 7ms/step - loss: 1.4471 - accuracy: 0.4768 - val_loss: 1.5186 - val_accuracy: 0.4586\n",
            "Epoch 15/100\n",
            "1250/1250 [==============================] - 9s 7ms/step - loss: 1.4463 - accuracy: 0.4803 - val_loss: 1.5280 - val_accuracy: 0.4538\n",
            "Epoch 16/100\n",
            "1250/1250 [==============================] - 8s 6ms/step - loss: 1.4338 - accuracy: 0.4852 - val_loss: 1.4852 - val_accuracy: 0.4769\n",
            "Epoch 17/100\n",
            "1250/1250 [==============================] - 8s 7ms/step - loss: 1.4345 - accuracy: 0.4846 - val_loss: 1.5021 - val_accuracy: 0.4684\n",
            "Epoch 18/100\n",
            "1250/1250 [==============================] - 8s 6ms/step - loss: 1.4181 - accuracy: 0.4870 - val_loss: 1.4919 - val_accuracy: 0.4721\n",
            "Epoch 19/100\n",
            "1250/1250 [==============================] - 8s 6ms/step - loss: 1.4168 - accuracy: 0.4869 - val_loss: 1.4765 - val_accuracy: 0.4791\n",
            "Epoch 20/100\n",
            "1250/1250 [==============================] - 8s 7ms/step - loss: 1.4165 - accuracy: 0.4916 - val_loss: 1.4905 - val_accuracy: 0.4769\n",
            "Epoch 21/100\n",
            "1250/1250 [==============================] - 7s 6ms/step - loss: 1.4119 - accuracy: 0.4924 - val_loss: 1.5127 - val_accuracy: 0.4610\n",
            "Epoch 22/100\n",
            "1250/1250 [==============================] - 8s 7ms/step - loss: 1.4038 - accuracy: 0.4931 - val_loss: 1.4890 - val_accuracy: 0.4661\n",
            "Epoch 23/100\n",
            "1250/1250 [==============================] - 8s 6ms/step - loss: 1.3984 - accuracy: 0.4961 - val_loss: 1.4861 - val_accuracy: 0.4756\n",
            "Epoch 24/100\n",
            "1250/1250 [==============================] - 8s 6ms/step - loss: 1.3976 - accuracy: 0.4994 - val_loss: 1.5334 - val_accuracy: 0.4642\n",
            "Epoch 25/100\n",
            "1250/1250 [==============================] - 8s 6ms/step - loss: 1.3941 - accuracy: 0.4978 - val_loss: 1.5292 - val_accuracy: 0.4655\n",
            "Epoch 26/100\n",
            "1250/1250 [==============================] - 8s 7ms/step - loss: 1.3841 - accuracy: 0.4994 - val_loss: 1.5128 - val_accuracy: 0.4731\n",
            "Epoch 27/100\n",
            "1250/1250 [==============================] - 8s 6ms/step - loss: 1.3845 - accuracy: 0.5023 - val_loss: 1.5145 - val_accuracy: 0.4677\n",
            "Epoch 28/100\n",
            "1250/1250 [==============================] - 8s 7ms/step - loss: 1.3816 - accuracy: 0.5052 - val_loss: 1.4920 - val_accuracy: 0.4751\n",
            "Epoch 29/100\n",
            "1250/1250 [==============================] - 9s 7ms/step - loss: 1.3743 - accuracy: 0.5055 - val_loss: 1.4993 - val_accuracy: 0.4705\n",
            "Epoch 30/100\n",
            "1250/1250 [==============================] - 9s 7ms/step - loss: 1.3704 - accuracy: 0.5081 - val_loss: 1.5121 - val_accuracy: 0.4639\n",
            "Epoch 31/100\n",
            "1250/1250 [==============================] - 10s 8ms/step - loss: 1.3692 - accuracy: 0.5052 - val_loss: 1.5021 - val_accuracy: 0.4727\n",
            "Epoch 32/100\n",
            "1250/1250 [==============================] - 9s 7ms/step - loss: 1.3652 - accuracy: 0.5092 - val_loss: 1.4977 - val_accuracy: 0.4814\n",
            "Epoch 33/100\n",
            "1250/1250 [==============================] - 10s 8ms/step - loss: 1.3678 - accuracy: 0.5051 - val_loss: 1.5066 - val_accuracy: 0.4776\n",
            "Epoch 34/100\n",
            "1250/1250 [==============================] - 10s 8ms/step - loss: 1.3595 - accuracy: 0.5103 - val_loss: 1.5366 - val_accuracy: 0.4624\n",
            "Epoch 35/100\n",
            "1250/1250 [==============================] - 10s 8ms/step - loss: 1.3538 - accuracy: 0.5136 - val_loss: 1.5078 - val_accuracy: 0.4717\n",
            "Epoch 36/100\n",
            "1250/1250 [==============================] - 10s 8ms/step - loss: 1.3516 - accuracy: 0.5105 - val_loss: 1.4837 - val_accuracy: 0.4792\n",
            "Epoch 37/100\n",
            "1250/1250 [==============================] - 9s 7ms/step - loss: 1.3442 - accuracy: 0.5132 - val_loss: 1.5067 - val_accuracy: 0.4753\n",
            "Epoch 38/100\n",
            "1250/1250 [==============================] - 9s 7ms/step - loss: 1.3490 - accuracy: 0.5160 - val_loss: 1.5013 - val_accuracy: 0.4722\n",
            "Epoch 39/100\n",
            "1250/1250 [==============================] - 9s 8ms/step - loss: 1.3422 - accuracy: 0.5158 - val_loss: 1.4955 - val_accuracy: 0.4827\n",
            "Epoch 40/100\n",
            "1250/1250 [==============================] - 10s 8ms/step - loss: 1.3372 - accuracy: 0.5183 - val_loss: 1.5507 - val_accuracy: 0.4646\n",
            "Epoch 41/100\n",
            "1250/1250 [==============================] - 9s 7ms/step - loss: 1.3341 - accuracy: 0.5171 - val_loss: 1.5107 - val_accuracy: 0.4740\n",
            "Epoch 42/100\n",
            "1250/1250 [==============================] - 11s 9ms/step - loss: 1.3307 - accuracy: 0.5210 - val_loss: 1.5234 - val_accuracy: 0.4597\n",
            "Epoch 43/100\n",
            "1250/1250 [==============================] - 13s 10ms/step - loss: 1.3311 - accuracy: 0.5192 - val_loss: 1.5179 - val_accuracy: 0.4716\n",
            "Epoch 44/100\n",
            "1250/1250 [==============================] - 9s 7ms/step - loss: 1.3298 - accuracy: 0.5237 - val_loss: 1.4959 - val_accuracy: 0.4793\n",
            "Epoch 45/100\n",
            "1250/1250 [==============================] - 9s 7ms/step - loss: 1.3287 - accuracy: 0.5219 - val_loss: 1.5105 - val_accuracy: 0.4752\n",
            "Epoch 46/100\n",
            "1250/1250 [==============================] - 9s 7ms/step - loss: 1.3243 - accuracy: 0.5201 - val_loss: 1.5172 - val_accuracy: 0.4748\n",
            "Epoch 47/100\n",
            "1250/1250 [==============================] - 10s 8ms/step - loss: 1.3186 - accuracy: 0.5236 - val_loss: 1.5000 - val_accuracy: 0.4790\n",
            "Epoch 48/100\n",
            "1250/1250 [==============================] - 9s 8ms/step - loss: 1.3184 - accuracy: 0.5237 - val_loss: 1.5108 - val_accuracy: 0.4835\n",
            "Epoch 49/100\n",
            "1250/1250 [==============================] - 10s 8ms/step - loss: 1.3183 - accuracy: 0.5268 - val_loss: 1.5451 - val_accuracy: 0.4673\n",
            "Epoch 50/100\n",
            "1250/1250 [==============================] - 9s 7ms/step - loss: 1.3138 - accuracy: 0.5269 - val_loss: 1.5024 - val_accuracy: 0.4792\n",
            "Epoch 51/100\n",
            "1250/1250 [==============================] - 9s 7ms/step - loss: 1.3132 - accuracy: 0.5250 - val_loss: 1.5500 - val_accuracy: 0.4754\n",
            "Epoch 52/100\n",
            "1250/1250 [==============================] - 10s 8ms/step - loss: 1.3113 - accuracy: 0.5264 - val_loss: 1.5151 - val_accuracy: 0.4789\n",
            "Epoch 53/100\n",
            "1250/1250 [==============================] - 9s 7ms/step - loss: 1.3067 - accuracy: 0.5298 - val_loss: 1.5352 - val_accuracy: 0.4803\n",
            "Epoch 54/100\n",
            "1250/1250 [==============================] - 9s 7ms/step - loss: 1.3052 - accuracy: 0.5272 - val_loss: 1.5189 - val_accuracy: 0.4736\n",
            "Epoch 55/100\n",
            "1250/1250 [==============================] - 10s 8ms/step - loss: 1.2999 - accuracy: 0.5291 - val_loss: 1.5468 - val_accuracy: 0.4677\n",
            "Epoch 56/100\n",
            "1250/1250 [==============================] - 10s 8ms/step - loss: 1.2997 - accuracy: 0.5334 - val_loss: 1.5368 - val_accuracy: 0.4734\n",
            "Epoch 57/100\n",
            "1250/1250 [==============================] - 9s 7ms/step - loss: 1.2930 - accuracy: 0.5299 - val_loss: 1.5076 - val_accuracy: 0.4789\n",
            "Epoch 58/100\n",
            "1250/1250 [==============================] - 8s 7ms/step - loss: 1.2937 - accuracy: 0.5356 - val_loss: 1.5255 - val_accuracy: 0.4739\n",
            "Epoch 59/100\n",
            "1250/1250 [==============================] - 9s 7ms/step - loss: 1.2934 - accuracy: 0.5350 - val_loss: 1.5449 - val_accuracy: 0.4803\n",
            "Epoch 60/100\n",
            "1250/1250 [==============================] - 9s 7ms/step - loss: 1.2886 - accuracy: 0.5346 - val_loss: 1.5250 - val_accuracy: 0.4778\n",
            "Epoch 61/100\n",
            "1250/1250 [==============================] - 9s 7ms/step - loss: 1.2845 - accuracy: 0.5331 - val_loss: 1.5301 - val_accuracy: 0.4798\n",
            "Epoch 62/100\n",
            "1250/1250 [==============================] - 9s 7ms/step - loss: 1.2860 - accuracy: 0.5330 - val_loss: 1.5339 - val_accuracy: 0.4664\n",
            "Epoch 63/100\n",
            "1250/1250 [==============================] - 11s 9ms/step - loss: 1.2864 - accuracy: 0.5366 - val_loss: 1.5364 - val_accuracy: 0.4642\n",
            "Epoch 64/100\n",
            "1250/1250 [==============================] - 9s 7ms/step - loss: 1.2812 - accuracy: 0.5355 - val_loss: 1.5136 - val_accuracy: 0.4776\n",
            "Epoch 65/100\n",
            "1250/1250 [==============================] - 9s 7ms/step - loss: 1.2766 - accuracy: 0.5410 - val_loss: 1.5728 - val_accuracy: 0.4703\n",
            "Epoch 66/100\n",
            "1250/1250 [==============================] - 10s 8ms/step - loss: 1.2799 - accuracy: 0.5376 - val_loss: 1.5330 - val_accuracy: 0.4841\n",
            "Epoch 67/100\n",
            "1250/1250 [==============================] - 10s 8ms/step - loss: 1.2743 - accuracy: 0.5422 - val_loss: 1.5330 - val_accuracy: 0.4850\n",
            "Epoch 68/100\n",
            "1250/1250 [==============================] - 11s 9ms/step - loss: 1.2732 - accuracy: 0.5371 - val_loss: 1.5420 - val_accuracy: 0.4807\n",
            "Epoch 69/100\n",
            "1250/1250 [==============================] - 9s 7ms/step - loss: 1.2777 - accuracy: 0.5355 - val_loss: 1.5034 - val_accuracy: 0.4871\n",
            "Epoch 70/100\n",
            "1250/1250 [==============================] - 8s 6ms/step - loss: 1.2670 - accuracy: 0.5404 - val_loss: 1.5427 - val_accuracy: 0.4816\n",
            "Epoch 71/100\n",
            "1250/1250 [==============================] - 8s 7ms/step - loss: 1.2684 - accuracy: 0.5436 - val_loss: 1.5117 - val_accuracy: 0.4847\n",
            "Epoch 72/100\n",
            "1250/1250 [==============================] - 12s 9ms/step - loss: 1.2678 - accuracy: 0.5382 - val_loss: 1.5356 - val_accuracy: 0.4797\n",
            "Epoch 73/100\n",
            "1250/1250 [==============================] - 8s 7ms/step - loss: 1.2678 - accuracy: 0.5421 - val_loss: 1.5791 - val_accuracy: 0.4691\n",
            "Epoch 74/100\n",
            "1250/1250 [==============================] - 8s 6ms/step - loss: 1.2585 - accuracy: 0.5442 - val_loss: 1.5274 - val_accuracy: 0.4815\n",
            "Epoch 75/100\n",
            "1250/1250 [==============================] - 9s 7ms/step - loss: 1.2567 - accuracy: 0.5444 - val_loss: 1.5471 - val_accuracy: 0.4731\n",
            "Epoch 76/100\n",
            "1250/1250 [==============================] - 9s 7ms/step - loss: 1.2606 - accuracy: 0.5427 - val_loss: 1.5639 - val_accuracy: 0.4840\n",
            "Epoch 77/100\n",
            "1250/1250 [==============================] - 8s 6ms/step - loss: 1.2577 - accuracy: 0.5428 - val_loss: 1.5357 - val_accuracy: 0.4803\n",
            "Epoch 78/100\n",
            "1250/1250 [==============================] - 9s 7ms/step - loss: 1.2611 - accuracy: 0.5429 - val_loss: 1.5288 - val_accuracy: 0.4811\n",
            "Epoch 79/100\n",
            "1250/1250 [==============================] - 9s 7ms/step - loss: 1.2522 - accuracy: 0.5456 - val_loss: 1.5599 - val_accuracy: 0.4751\n",
            "Epoch 80/100\n",
            "1250/1250 [==============================] - 10s 8ms/step - loss: 1.2483 - accuracy: 0.5497 - val_loss: 1.5919 - val_accuracy: 0.4678\n",
            "Epoch 81/100\n",
            "1250/1250 [==============================] - 10s 8ms/step - loss: 1.2564 - accuracy: 0.5448 - val_loss: 1.5616 - val_accuracy: 0.4797\n",
            "Epoch 82/100\n",
            "1250/1250 [==============================] - 9s 8ms/step - loss: 1.2525 - accuracy: 0.5463 - val_loss: 1.6110 - val_accuracy: 0.4705\n",
            "Epoch 83/100\n",
            "1250/1250 [==============================] - 11s 9ms/step - loss: 1.2484 - accuracy: 0.5479 - val_loss: 1.5518 - val_accuracy: 0.4788\n",
            "Epoch 84/100\n",
            "1250/1250 [==============================] - 8s 6ms/step - loss: 1.2481 - accuracy: 0.5466 - val_loss: 1.5699 - val_accuracy: 0.4768\n",
            "Epoch 85/100\n",
            "1250/1250 [==============================] - 8s 7ms/step - loss: 1.2415 - accuracy: 0.5497 - val_loss: 1.5653 - val_accuracy: 0.4741\n",
            "Epoch 86/100\n",
            "1250/1250 [==============================] - 8s 6ms/step - loss: 1.2502 - accuracy: 0.5443 - val_loss: 1.5540 - val_accuracy: 0.4763\n",
            "Epoch 87/100\n",
            "1250/1250 [==============================] - 7s 6ms/step - loss: 1.2450 - accuracy: 0.5484 - val_loss: 1.5538 - val_accuracy: 0.4787\n",
            "Epoch 88/100\n",
            "1250/1250 [==============================] - 8s 7ms/step - loss: 1.2420 - accuracy: 0.5482 - val_loss: 1.5602 - val_accuracy: 0.4784\n",
            "Epoch 89/100\n",
            "1250/1250 [==============================] - 9s 7ms/step - loss: 1.2388 - accuracy: 0.5489 - val_loss: 1.5936 - val_accuracy: 0.4745\n",
            "Epoch 90/100\n",
            "1250/1250 [==============================] - 7s 6ms/step - loss: 1.2367 - accuracy: 0.5521 - val_loss: 1.5619 - val_accuracy: 0.4791\n",
            "Epoch 91/100\n",
            "1250/1250 [==============================] - 8s 6ms/step - loss: 1.2415 - accuracy: 0.5490 - val_loss: 1.5877 - val_accuracy: 0.4670\n",
            "Epoch 92/100\n",
            "1250/1250 [==============================] - 9s 7ms/step - loss: 1.2387 - accuracy: 0.5485 - val_loss: 1.5752 - val_accuracy: 0.4848\n",
            "Epoch 93/100\n",
            "1250/1250 [==============================] - 8s 7ms/step - loss: 1.2341 - accuracy: 0.5506 - val_loss: 1.5701 - val_accuracy: 0.4794\n",
            "Epoch 94/100\n",
            "1250/1250 [==============================] - 8s 7ms/step - loss: 1.2383 - accuracy: 0.5515 - val_loss: 1.5672 - val_accuracy: 0.4680\n",
            "Epoch 95/100\n",
            "1250/1250 [==============================] - 9s 7ms/step - loss: 1.2315 - accuracy: 0.5500 - val_loss: 1.5817 - val_accuracy: 0.4743\n",
            "Epoch 96/100\n",
            "1250/1250 [==============================] - 9s 7ms/step - loss: 1.2327 - accuracy: 0.5529 - val_loss: 1.5899 - val_accuracy: 0.4736\n",
            "Epoch 97/100\n",
            "1250/1250 [==============================] - 8s 7ms/step - loss: 1.2338 - accuracy: 0.5520 - val_loss: 1.5695 - val_accuracy: 0.4770\n",
            "Epoch 98/100\n",
            "1250/1250 [==============================] - 8s 7ms/step - loss: 1.2304 - accuracy: 0.5514 - val_loss: 1.5497 - val_accuracy: 0.4857\n",
            "Epoch 99/100\n",
            "1250/1250 [==============================] - 9s 7ms/step - loss: 1.2202 - accuracy: 0.5577 - val_loss: 1.5944 - val_accuracy: 0.4696\n",
            "Epoch 100/100\n",
            "1250/1250 [==============================] - 9s 7ms/step - loss: 1.2277 - accuracy: 0.5526 - val_loss: 1.6139 - val_accuracy: 0.4780\n"
          ]
        }
      ]
    },
    {
      "cell_type": "code",
      "source": [
        "# Get Training accuray & Validation accuracy from history\n",
        "acc = hist.history[\"accuracy\"]\n",
        "val_acc = hist.history[\"val_accuracy\"]\n",
        "\n",
        "# Get Training loss & Validation loss from history\n",
        "loss = hist.history[\"loss\"]\n",
        "val_loss = hist.history[\"val_loss\"]\n",
        "\n",
        "# Let's visualize accuracy\n",
        "plt.figure(figsize=(8, 8))\n",
        "plt.subplot(2, 1, 1)\n",
        "plt.plot(acc, label = \"Training Accuracy\")\n",
        "plt.plot(val_acc, label = \"Validation Accuracy\")\n",
        "plt.legend(loc = \"lower right\")\n",
        "plt.ylabel(\"Accuracy\")\n",
        "plt.ylim([min(plt.ylim()), 1])\n",
        "plt.title(\"Training and Validation Accuracy\")\n",
        "\n",
        "# Let's visualize loss\n",
        "plt.subplot(2, 1, 2)\n",
        "plt.plot(loss, label = \"Training Loss\")\n",
        "plt.plot(val_loss, label = \"Validation Loss\")\n",
        "plt.legend(loc = \"upper right\")\n",
        "plt.ylabel(\"Cross Entropy\")\n",
        "plt.ylim([0, 3.0])\n",
        "plt.title(\"Training and Validation Loss\")\n",
        "plt.xlabel(\"epoch\")\n",
        "\n",
        "plt.show()"
      ],
      "metadata": {
        "colab": {
          "base_uri": "https://localhost:8080/",
          "height": 513
        },
        "id": "Ve-BZlW4iBER",
        "outputId": "6bc987f6-ca05-47c7-f6f5-86fc838b2975"
      },
      "execution_count": null,
      "outputs": [
        {
          "output_type": "display_data",
          "data": {
            "text/plain": [
              "<Figure size 576x576 with 2 Axes>"
            ],
            "image/png": "[encoded data removed]"
          },
          "metadata": {
            "needs_background": "light"
          }
        }
      ]
    },
    {
      "cell_type": "markdown",
      "source": [
        "### Model Evaluation"
      ],
      "metadata": {
        "id": "r8Y1UaaxvFjv"
      }
    },
    {
      "cell_type": "code",
      "source": [
        "model.evaluate(x_test, y_test, verbose=2)"
      ],
      "metadata": {
        "colab": {
          "base_uri": "https://localhost:8080/"
        },
        "id": "DqWqf_5zvHlN",
        "outputId": "61b0ad3b-cd16-41d8-8ee1-5e1ac1f98fe2"
      },
      "execution_count": null,
      "outputs": [
        {
          "output_type": "stream",
          "name": "stdout",
          "text": [
            "313/313 - 1s - loss: 1.5908 - accuracy: 0.4716 - 864ms/epoch - 3ms/step\n"
          ]
        },
        {
          "output_type": "execute_result",
          "data": {
            "text/plain": [
              "[1.5907838344573975, 0.4715999960899353]"
            ]
          },
          "metadata": {},
          "execution_count": 70
        }
      ]
    },
    {
      "cell_type": "code",
      "source": [
        "# Predictions\n",
        "predictions = model.predict(x_test)"
      ],
      "metadata": {
        "colab": {
          "base_uri": "https://localhost:8080/"
        },
        "id": "wbPmuQOyvTcq",
        "outputId": "436d4cab-5bbd-40db-a802-b06caf6d2ab2"
      },
      "execution_count": null,
      "outputs": [
        {
          "output_type": "stream",
          "name": "stdout",
          "text": [
            "313/313 [==============================] - 1s 3ms/step\n"
          ]
        }
      ]
    },
    {
      "cell_type": "code",
      "source": [
        "import numpy as np\n",
        "\n",
        "# Plot image with label\n",
        "def plot_image(i, predictions_array, true_label, img):\n",
        "  predictions_array, true_label, img = predictions_array[i], true_label[i][0], img[i]\n",
        "  plt.grid(False)\n",
        "  plt.xticks([])\n",
        "  plt.yticks([])\n",
        "\n",
        "  plt.imshow(img, cmap = plt.cm.binary)\n",
        "  predicted_label = np.argmax(predictions_array)\n",
        "  if predicted_label == true_label:\n",
        "    color = \"blue\"\n",
        "  else:\n",
        "    color = \"red\"\n",
        "\n",
        "  plt.xlabel(\"{} {:2.0f}% ({})\".format(class_names[predicted_label],\n",
        "                                       100*np.max(predictions_array),\n",
        "                                       class_names[true_label]),\n",
        "             color = color)\n",
        "  \n",
        "# Plot\n",
        "def plot_value_array(i, predictions_array, true_label):\n",
        "  predictions_array, true_label = predictions_array[i], true_label[i][0]\n",
        "  plt.grid(False)\n",
        "  plt.xticks([])\n",
        "  plt.yticks([])\n",
        "  thisplot = plt.bar(range(10), predictions_array, color = \"gray\")\n",
        "  plt.ylim([0, 1])\n",
        "  predicted_label = np.argmax(predictions_array)\n",
        "  _ = plt.xticks(range(10), class_names, rotation = 45)\n",
        "\n",
        "  thisplot[predicted_label].set_color(\"red\")\n",
        "  thisplot[true_label].set_color(\"blue\")"
      ],
      "metadata": {
        "id": "nE3qtnTbvob5"
      },
      "execution_count": null,
      "outputs": []
    },
    {
      "cell_type": "code",
      "source": [
        "import random\n",
        "\n",
        "i = random.randrange(len(x_test))  # Which index to check the result?\n",
        "plt.figure(figsize=(6,3))\n",
        "\n",
        "# Plot the image and predicted class / true class\n",
        "plt.subplot(1, 2, 1)\n",
        "plot_image(i, predictions, y_test, x_test)\n",
        "\n",
        "# Plot predicted probability\n",
        "plt.subplot(1, 2, 2)\n",
        "plot_value_array(i, predictions, y_test)\n",
        "\n",
        "plt.show()"
      ],
      "metadata": {
        "colab": {
          "base_uri": "https://localhost:8080/",
          "height": 248
        },
        "id": "NzNGX-SMvbfa",
        "outputId": "cc241650-1cb7-4fa9-d537-22e96263e7a3"
      },
      "execution_count": null,
      "outputs": [
        {
          "output_type": "display_data",
          "data": {
            "text/plain": [
              "<Figure size 432x216 with 2 Axes>"
            ],
            "image/png": "[encoded data removed]"
          },
          "metadata": {
            "needs_background": "light"
          }
        }
      ]
    },
    {
      "cell_type": "markdown",
      "metadata": {
        "id": "FUHQSgCFfBZX"
      },
      "source": [
        "## Problem 2: 간단한 ResNet 구현"
      ]
    },
    {
      "cell_type": "markdown",
      "metadata": {
        "id": "ht2UabMpfBZY"
      },
      "source": [
        "다음은 MLP layer만을 간단하게 구현한 ResNet-11 모델의 구조이다. \n",
        "\n",
        "`ResBlock`함수를 작성한 다음 `ResNet11`함수를 이용하여 ResNet-11를 구현해보자.\n",
        "- 조건1: 1번째 ResBlock의 node는 100개, 2,3번째 ResBlock의 node는 200개를 사용한다.\n",
        "- 조건2: 마지막 Layer의 node 수는 10개이다.\n",
        "- 조건3: Activation은 모두 ReLU를 사용한다. 단, 마지막 layer에서는 Softmax activation을 사용한다. \n",
        "![resnet11.png](attachment:resnet11.png)\n",
        "\n",
        "\n",
        "ResNet에 대해서는 다음 문서 참조:(https://openaccess.thecvf.com/content_cvpr_2016/papers/He_Deep_Residual_Learning_CVPR_2016_paper.pdf) "
      ]
    },
    {
      "cell_type": "code",
      "source": [
        "!pip install pydot pydotplus graphviz  # then kernel restart"
      ],
      "metadata": {
        "colab": {
          "base_uri": "https://localhost:8080/"
        },
        "id": "3sjyqTLW1Z3x",
        "outputId": "77fd3f87-bcc4-42b7-a268-e4b1a9694706"
      },
      "execution_count": null,
      "outputs": [
        {
          "output_type": "stream",
          "name": "stdout",
          "text": [
            "Looking in indexes: https://pypi.org/simple, https://us-python.pkg.dev/colab-wheels/public/simple/\n",
            "Requirement already satisfied: pydot in /usr/local/lib/python3.8/dist-packages (1.3.0)\n",
            "Requirement already satisfied: pydotplus in /usr/local/lib/python3.8/dist-packages (2.0.2)\n",
            "Requirement already satisfied: graphviz in /usr/local/lib/python3.8/dist-packages (0.10.1)\n",
            "Requirement already satisfied: pyparsing>=2.1.4 in /usr/local/lib/python3.8/dist-packages (from pydot) (3.0.9)\n"
          ]
        }
      ]
    },
    {
      "cell_type": "code",
      "source": [
        "import tensorflow as tf\n",
        "from tensorflow.keras.layers import Input, Dense, Conv2D, Concatenate, Flatten, Add, MaxPooling2D, GlobalAveragePooling2D"
      ],
      "metadata": {
        "id": "yqB5_DsZ1U-q"
      },
      "execution_count": null,
      "outputs": []
    },
    {
      "cell_type": "code",
      "execution_count": null,
      "metadata": {
        "id": "z7YYXBi-fBZY"
      },
      "outputs": [],
      "source": [
        "def ResBlock(x, nodes):\n",
        "    # 우회\n",
        "    shortcut = x\n",
        "\n",
        "    # 비우회\n",
        "    x = Dense(nodes, activation='relu')(x)\n",
        "    x = Dense(nodes, activation='relu')(x)\n",
        "\n",
        "    # 집결\n",
        "    # outputs = x + shortcut\n",
        "    x = Add()([x, shortcut])\n",
        "    \n",
        "    return x    "
      ]
    },
    {
      "cell_type": "code",
      "execution_count": null,
      "metadata": {
        "id": "DbP_sCqafBZZ"
      },
      "outputs": [],
      "source": [
        "def ResNet11():\n",
        "    inputs = Input(shape=(224, 224, 3))    \n",
        "    x = Flatten()(inputs)\n",
        "    x = Dense(100)(x)\n",
        "\n",
        "    x = ResBlock(x, 100)\n",
        "    x = ResBlock(x, 200)\n",
        "    x = ResBlock(x, 200)\n",
        "    \n",
        "    outputs = Dense(10, activation='softmax')(x)\n",
        "    \n",
        "    return tf.keras.Model(inputs=inputs, outputs=outputs)"
      ]
    },
    {
      "cell_type": "code",
      "execution_count": null,
      "metadata": {
        "id": "RzMfaZIEfBZZ"
      },
      "outputs": [],
      "source": [
        "resnet11 = ResNet11()"
      ]
    },
    {
      "cell_type": "code",
      "execution_count": null,
      "metadata": {
        "scrolled": false,
        "id": "agehNP4tfBZZ",
        "colab": {
          "base_uri": "https://localhost:8080/",
          "height": 1000
        },
        "outputId": "30a2be76-82a1-4c5d-87f0-6ed8f6f017e9"
      },
      "outputs": [
        {
          "output_type": "execute_result",
          "data": {
            "image/png": "[encoded data removed]",
            "text/plain": [
              "<IPython.core.display.Image object>"
            ]
          },
          "metadata": {},
          "execution_count": 47
        }
      ],
      "source": [
        "tf.keras.utils.plot_model(resnet11, to_file='resnet11.png')"
      ]
    }
  ],
  "metadata": {
    "colab": {
      "provenance": [],
      "include_colab_link": true
    },
    "kernelspec": {
      "display_name": "Python 3 (ipykernel)",
      "language": "python",
      "name": "python3"
    },
    "language_info": {
      "codemirror_mode": {
        "name": "ipython",
        "version": 3
      },
      "file_extension": ".py",
      "mimetype": "text/x-python",
      "name": "python",
      "nbconvert_exporter": "python",
      "pygments_lexer": "ipython3",
      "version": "3.8.0"
    }
  },
  "nbformat": 4,
  "nbformat_minor": 0
}